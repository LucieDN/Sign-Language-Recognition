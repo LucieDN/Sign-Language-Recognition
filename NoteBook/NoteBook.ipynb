{
 "cells": [
  {
   "cell_type": "markdown",
   "metadata": {},
   "source": [
    "# Introduction to Jupyter Notebooks\n",
    "## JupyterLab 🧪\n",
    "\n",
    "**For an overview of the JupyterLab interface**, see the **JupyterLab Welcome Tour** on this page, by going to `Help -> Welcome Tour` and following the prompts.\n",
    "\n",
    "> **See Also**: For a more in-depth tour of JupyterLab with a full environment that runs in the cloud, see [the JupyterLab introduction on Binder](https://mybinder.org/v2/gh/jupyterlab/jupyterlab-demo/HEAD?urlpath=lab/tree/demo).\n"
   ]
  },
  {
   "cell_type": "markdown",
   "metadata": {},
   "source": [
    "# Importations and environment"
   ]
  },
  {
   "cell_type": "code",
   "execution_count": null,
   "metadata": {},
   "outputs": [],
   "source": [
    "%pip install lsfb_dataset\n",
    "%pip install numpy"
   ]
  },
  {
   "cell_type": "code",
   "execution_count": 13,
   "metadata": {},
   "outputs": [],
   "source": [
    "import numpy as np\n",
    "import pandas as pd\n",
    "import os\n",
    "from lsfb_dataset import Downloader"
   ]
  },
  {
   "cell_type": "markdown",
   "metadata": {},
   "source": [
    "# Data Processing\n",
    "## Download dataset\n",
    "- Quote lsfb-dataset\n",
    "- describing data"
   ]
  },
  {
   "cell_type": "code",
   "execution_count": 14,
   "metadata": {},
   "outputs": [
    {
     "data": {
      "application/vnd.jupyter.widget-view+json": {
       "model_id": "a41c03638af448c991cfc63519eee9b2",
       "version_major": 2,
       "version_minor": 0
      },
      "text/plain": [
       "Metadata:   0%|          | 0/13 [00:00<?, ?files/s]"
      ]
     },
     "metadata": {},
     "output_type": "display_data"
    },
    {
     "data": {
      "application/vnd.jupyter.widget-view+json": {
       "model_id": "38f3ddde794944f3affe6b45d623d7b4",
       "version_major": 2,
       "version_minor": 0
      },
      "text/plain": [
       "Poses for 19926 instances [pose, left_hand, right_hand]:   0%|          | 0/59778 [00:00<?, ?files/s]"
      ]
     },
     "metadata": {},
     "output_type": "display_data"
    },
    {
     "data": {
      "application/vnd.jupyter.widget-view+json": {
       "model_id": "60315a9e5cb740c592b47cbe6caa27a3",
       "version_major": 2,
       "version_minor": 0
      },
      "text/plain": [
       "Videos for 19926 instances:   0%|          | 0/19926 [00:00<?, ?files/s]"
      ]
     },
     "metadata": {},
     "output_type": "display_data"
    }
   ],
   "source": [
    "downloader = Downloader(\n",
    "    dataset='isol',\n",
    "    destination=\"../Database/Dataset\",\n",
    "    splits=['train','test'],\n",
    "    signers=list(range(8)),\n",
    "    include_cleaned_poses=True,\n",
    "    include_raw_poses=False,\n",
    "    include_videos=True,\n",
    "    landmarks=['pose', 'left_hand', 'right_hand'],\n",
    "    skip_existing_files=True,\n",
    ")\n",
    "downloader.download()\n"
   ]
  },
  {
   "cell_type": "code",
   "execution_count": null,
   "metadata": {},
   "outputs": [],
   "source": [
    "# from lsfb_dataset import LSFBIsolConfig, LSFBIsolLandmarks\n",
    "\n",
    "# dataset = LSFBIsolLandmarks(LSFBIsolConfig(\n",
    "#     root=\"../Database/Dataset\",\n",
    "#     landmarks=('pose', 'left_hand', 'right_hand'),\n",
    "#     sequence_max_length=50,\n",
    "#     use_3d=True,\n",
    "#     n_labels=10,\n",
    "#     target='sign_index',\n",
    "#     show_progress=True\n",
    "# ))\n",
    "# features, target = dataset[0]"
   ]
  },
  {
   "cell_type": "markdown",
   "metadata": {},
   "source": [
    "## Select data\n",
    "Criteria for video selection : \n",
    " - less than 50 frames\n",
    " - more than 10 frames\n",
    " - representing one of the ten most represented signs"
   ]
  },
  {
   "cell_type": "code",
   "execution_count": 16,
   "metadata": {},
   "outputs": [
    {
     "name": "stdout",
     "output_type": "stream",
     "text": [
      "AUSSI : 371\n",
      "LS : 342\n",
      "OUI : 314\n",
      "AVOIR : 280\n",
      "SOURD : 130\n"
     ]
    }
   ],
   "source": [
    "df_instances = pd.read_csv('../Database/Dataset/instances.csv', engine='python')\n",
    "df_index = pd.read_csv('../Database/sign_to_index.csv')\n",
    "directory = \"../Database/Dataset/videos/\"\n",
    "signs = [df_index.loc[i, \"sign\"] for i in range(5)] # On se limite au 3 premiers mots de la liste\n",
    "points = [0,4,8,12,16,20]\n",
    "\n",
    "def videoSigning(word):\n",
    "    videos = []\n",
    "    for i in range(len(df_instances)):\n",
    "        path = directory + df_instances.loc[i,\"id\"] + \".mp4\"\n",
    "        if df_instances.loc[i, \"sign\"]==word and os.path.exists(path):\n",
    "            videos.append(path)\n",
    "    return videos\n",
    "\n",
    "for sign in signs:\n",
    "    print(f\"{sign} : {len(videoSigning(sign))}\")"
   ]
  },
  {
   "cell_type": "markdown",
   "metadata": {},
   "source": [
    "## Data processing"
   ]
  },
  {
   "cell_type": "markdown",
   "metadata": {},
   "source": [
    "# Support vector machines\n",
    "## Training\n",
    "## Results"
   ]
  }
 ],
 "metadata": {
  "kernelspec": {
   "display_name": "Python 3",
   "language": "python",
   "name": "python3"
  },
  "language_info": {
   "codemirror_mode": {
    "name": "ipython",
    "version": 3
   },
   "file_extension": ".py",
   "mimetype": "text/x-python",
   "name": "python",
   "nbconvert_exporter": "python",
   "pygments_lexer": "ipython3",
   "version": "3.11.8"
  }
 },
 "nbformat": 4,
 "nbformat_minor": 2
}
