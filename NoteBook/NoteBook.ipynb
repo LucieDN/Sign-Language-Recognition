{
 "cells": [
  {
   "cell_type": "markdown",
   "metadata": {},
   "source": [
    "Importations and environment"
   ]
  },
  {
   "cell_type": "code",
   "execution_count": 15,
   "metadata": {},
   "outputs": [],
   "source": [
    "import numpy as np\n",
    "import pandas as pd\n",
    "import os\n",
    "from lsfb_dataset import Downloader"
   ]
  },
  {
   "cell_type": "markdown",
   "metadata": {},
   "source": [
    "Download dataset"
   ]
  },
  {
   "cell_type": "code",
   "execution_count": 42,
   "metadata": {},
   "outputs": [
    {
     "data": {
      "application/vnd.jupyter.widget-view+json": {
       "model_id": "cac656ae60194a7ba873b0d965d061fe",
       "version_major": 2,
       "version_minor": 0
      },
      "text/plain": [
       "Metadata:   0%|          | 0/13 [00:00<?, ?files/s]"
      ]
     },
     "metadata": {},
     "output_type": "display_data"
    },
    {
     "data": {
      "application/vnd.jupyter.widget-view+json": {
       "model_id": "e6a93a64adb142149b8b078098be21ae",
       "version_major": 2,
       "version_minor": 0
      },
      "text/plain": [
       "Poses for 19926 instances [pose, left_hand, right_hand]:   0%|          | 0/59778 [00:00<?, ?files/s]"
      ]
     },
     "metadata": {},
     "output_type": "display_data"
    },
    {
     "data": {
      "application/vnd.jupyter.widget-view+json": {
       "model_id": "66b1a3525111491f9d0e62fea7572bdb",
       "version_major": 2,
       "version_minor": 0
      },
      "text/plain": [
       "Videos for 19926 instances:   0%|          | 0/19926 [00:00<?, ?files/s]"
      ]
     },
     "metadata": {},
     "output_type": "display_data"
    }
   ],
   "source": [
    "downloader = Downloader(\n",
    "    dataset='isol',\n",
    "    destination=\"../Database/Dataset\",\n",
    "    splits=['train','test'],\n",
    "    signers=list(range(8)),\n",
    "    include_cleaned_poses=True,\n",
    "    include_raw_poses=False,\n",
    "    include_videos=True,\n",
    "    landmarks=['pose', 'left_hand', 'right_hand'],\n",
    "    skip_existing_files=True,\n",
    ")\n",
    "downloader.download()\n"
   ]
  },
  {
   "cell_type": "code",
   "execution_count": null,
   "metadata": {},
   "outputs": [],
   "source": [
    "# from lsfb_dataset import LSFBIsolConfig, LSFBIsolLandmarks\n",
    "\n",
    "# dataset = LSFBIsolLandmarks(LSFBIsolConfig(\n",
    "#     root=\"../Database/Dataset\",\n",
    "#     landmarks=('pose', 'left_hand', 'right_hand'),\n",
    "#     sequence_max_length=50,\n",
    "#     use_3d=True,\n",
    "#     n_labels=10,\n",
    "#     target='sign_index',\n",
    "#     show_progress=True\n",
    "# ))\n",
    "# features, target = dataset[0]"
   ]
  },
  {
   "cell_type": "code",
   "execution_count": 41,
   "metadata": {},
   "outputs": [
    {
     "name": "stdout",
     "output_type": "stream",
     "text": [
      "AUSSI : 371\n",
      "LS : 342\n",
      "OUI : 314\n",
      "AVOIR : 280\n",
      "SOURD : 130\n",
      "QUOI : 148\n",
      "MAIS : 175\n",
      "NON : 193\n",
      "PLUS.P : 214\n",
      "REGARDER : 118\n",
      "FALLOIR : 214\n",
      "DIRE : 204\n",
      "C-EST : 104\n",
      "RIEN : 79\n",
      "AVANT : 165\n"
     ]
    }
   ],
   "source": [
    "df_instances = pd.read_csv('../Database/Dataset/instances.csv', engine='python')\n",
    "df_index = pd.read_csv('../Database/sign_to_index.csv')\n",
    "directory = \"../Database/Dataset/videos/\"\n",
    "signs = [df_index.loc[i, \"sign\"] for i in range(15)] # On se limite au 3 premiers mots de la liste\n",
    "points = [0,4,8,12,16,20]\n",
    "\n",
    "def videoSigning(word):\n",
    "    videos = []\n",
    "    for i in range(len(df_instances)):\n",
    "        path = directory + df_instances.loc[i,\"id\"] + \".mp4\"\n",
    "        if df_instances.loc[i, \"sign\"]==word and os.path.exists(path):\n",
    "            videos.append(path)\n",
    "    return videos\n",
    "\n",
    "for sign in signs:\n",
    "    print(f\"{sign} : {len(videoSigning(sign))}\")\n"
   ]
  }
 ],
 "metadata": {
  "kernelspec": {
   "display_name": "Python 3",
   "language": "python",
   "name": "python3"
  },
  "language_info": {
   "codemirror_mode": {
    "name": "ipython",
    "version": 3
   },
   "file_extension": ".py",
   "mimetype": "text/x-python",
   "name": "python",
   "nbconvert_exporter": "python",
   "pygments_lexer": "ipython3",
   "version": "3.11.8"
  }
 },
 "nbformat": 4,
 "nbformat_minor": 2
}
