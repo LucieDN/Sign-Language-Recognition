{
 "cells": [
  {
   "cell_type": "markdown",
   "metadata": {},
   "source": [
    "Importations and environment"
   ]
  },
  {
   "cell_type": "code",
   "execution_count": null,
   "metadata": {},
   "outputs": [],
   "source": [
    "import numpy as np\n",
    "import pandas as pd\n",
    "import os\n",
    "from lsfb_dataset import Downloader"
   ]
  },
  {
   "cell_type": "markdown",
   "metadata": {},
   "source": [
    "Download dataset"
   ]
  },
  {
   "cell_type": "code",
   "execution_count": null,
   "metadata": {},
   "outputs": [],
   "source": [
    "downloader = Downloader(\n",
    "    dataset='isol',\n",
    "    destination=\"../Database/Dataset\",\n",
    "    splits=['train','test'],\n",
    "    signers=list(range(3)),\n",
    "    include_cleaned_poses=True,\n",
    "    include_raw_poses=False,\n",
    "    include_videos=True,\n",
    "    landmarks=['pose', 'left_hand', 'right_hand'],\n",
    "    skip_existing_files=True,\n",
    ")\n",
    "downloader.download()\n"
   ]
  },
  {
   "cell_type": "code",
   "execution_count": null,
   "metadata": {},
   "outputs": [],
   "source": [
    "# from lsfb_dataset import LSFBIsolConfig, LSFBIsolLandmarks\n",
    "\n",
    "# dataset = LSFBIsolLandmarks(LSFBIsolConfig(\n",
    "#     root=\"../Database/Dataset\",\n",
    "#     landmarks=('pose', 'left_hand', 'right_hand'),\n",
    "#     sequence_max_length=50,\n",
    "#     use_3d=True,\n",
    "#     n_labels=10,\n",
    "#     target='sign_index',\n",
    "#     show_progress=True\n",
    "# ))\n",
    "# features, target = dataset[0]"
   ]
  },
  {
   "cell_type": "code",
   "execution_count": null,
   "metadata": {},
   "outputs": [],
   "source": [
    "df_instances = pd.read_csv('../Database/Dataset/instances.csv', engine='python')\n",
    "df_index = pd.read_csv('../Database/sign_to_index.csv')\n",
    "directory = \"../Database/Dataset/videos/\"\n",
    "signs = [df_index.loc[i, \"sign\"] for i in range(3)] # On se limite au 3 premiers mots de la liste\n",
    "points = [0,4,8,12,16,20]\n",
    "\n",
    "def videoSigning(word):\n",
    "    videos = []\n",
    "    for i in range(len(df_instances)):\n",
    "        path = directory + df_instances.loc[i,\"id\"] + \".mp4\"\n",
    "        if df_instances.loc[i, \"sign\"]==word and os.path.exists(path):\n",
    "            videos.append(path)\n",
    "    return videos\n",
    "\n",
    "liste = videoSigning(\"AVANCER\")\n",
    "print(len(liste))"
   ]
  }
 ],
 "metadata": {
  "kernelspec": {
   "display_name": "Python 3",
   "language": "python",
   "name": "python3"
  },
  "language_info": {
   "codemirror_mode": {
    "name": "ipython",
    "version": 3
   },
   "file_extension": ".py",
   "mimetype": "text/x-python",
   "name": "python",
   "nbconvert_exporter": "python",
   "pygments_lexer": "ipython3",
   "version": "3.11.8"
  }
 },
 "nbformat": 4,
 "nbformat_minor": 2
}
