{
 "cells": [
  {
   "cell_type": "code",
   "execution_count": 1,
   "metadata": {},
   "outputs": [
    {
     "name": "stdout",
     "output_type": "stream",
     "text": [
      "Requirement already satisfied: lsfb-dataset in c:\\users\\della\\appdata\\local\\packages\\pythonsoftwarefoundation.python.3.11_qbz5n2kfra8p0\\localcache\\local-packages\\python311\\site-packages (2.0.1)Note: you may need to restart the kernel to use updated packages.\n",
      "\n",
      "Requirement already satisfied: numpy in c:\\users\\della\\appdata\\local\\packages\\pythonsoftwarefoundation.python.3.11_qbz5n2kfra8p0\\localcache\\local-packages\\python311\\site-packages (from lsfb-dataset) (1.24.3)\n",
      "Requirement already satisfied: pandas in c:\\users\\della\\appdata\\local\\packages\\pythonsoftwarefoundation.python.3.11_qbz5n2kfra8p0\\localcache\\local-packages\\python311\\site-packages (from lsfb-dataset) (2.1.3)\n",
      "Requirement already satisfied: tqdm in c:\\users\\della\\appdata\\local\\packages\\pythonsoftwarefoundation.python.3.11_qbz5n2kfra8p0\\localcache\\local-packages\\python311\\site-packages (from lsfb-dataset) (4.66.1)\n",
      "Requirement already satisfied: requests in c:\\users\\della\\appdata\\local\\packages\\pythonsoftwarefoundation.python.3.11_qbz5n2kfra8p0\\localcache\\local-packages\\python311\\site-packages (from lsfb-dataset) (2.31.0)\n",
      "Requirement already satisfied: python-dateutil>=2.8.2 in c:\\users\\della\\appdata\\local\\packages\\pythonsoftwarefoundation.python.3.11_qbz5n2kfra8p0\\localcache\\local-packages\\python311\\site-packages (from pandas->lsfb-dataset) (2.8.2)\n",
      "Requirement already satisfied: pytz>=2020.1 in c:\\users\\della\\appdata\\local\\packages\\pythonsoftwarefoundation.python.3.11_qbz5n2kfra8p0\\localcache\\local-packages\\python311\\site-packages (from pandas->lsfb-dataset) (2023.3.post1)\n",
      "Requirement already satisfied: tzdata>=2022.1 in c:\\users\\della\\appdata\\local\\packages\\pythonsoftwarefoundation.python.3.11_qbz5n2kfra8p0\\localcache\\local-packages\\python311\\site-packages (from pandas->lsfb-dataset) (2023.3)\n",
      "Requirement already satisfied: charset-normalizer<4,>=2 in c:\\users\\della\\appdata\\local\\packages\\pythonsoftwarefoundation.python.3.11_qbz5n2kfra8p0\\localcache\\local-packages\\python311\\site-packages (from requests->lsfb-dataset) (3.3.2)\n",
      "Requirement already satisfied: idna<4,>=2.5 in c:\\users\\della\\appdata\\local\\packages\\pythonsoftwarefoundation.python.3.11_qbz5n2kfra8p0\\localcache\\local-packages\\python311\\site-packages (from requests->lsfb-dataset) (3.6)\n",
      "Requirement already satisfied: urllib3<3,>=1.21.1 in c:\\users\\della\\appdata\\local\\packages\\pythonsoftwarefoundation.python.3.11_qbz5n2kfra8p0\\localcache\\local-packages\\python311\\site-packages (from requests->lsfb-dataset) (2.1.0)\n",
      "Requirement already satisfied: certifi>=2017.4.17 in c:\\users\\della\\appdata\\local\\packages\\pythonsoftwarefoundation.python.3.11_qbz5n2kfra8p0\\localcache\\local-packages\\python311\\site-packages (from requests->lsfb-dataset) (2023.11.17)\n",
      "Requirement already satisfied: colorama in c:\\users\\della\\appdata\\local\\packages\\pythonsoftwarefoundation.python.3.11_qbz5n2kfra8p0\\localcache\\local-packages\\python311\\site-packages (from tqdm->lsfb-dataset) (0.4.6)\n",
      "Requirement already satisfied: six>=1.5 in c:\\users\\della\\appdata\\local\\packages\\pythonsoftwarefoundation.python.3.11_qbz5n2kfra8p0\\localcache\\local-packages\\python311\\site-packages (from python-dateutil>=2.8.2->pandas->lsfb-dataset) (1.16.0)\n"
     ]
    }
   ],
   "source": [
    "pip install lsfb-dataset"
   ]
  },
  {
   "cell_type": "code",
   "execution_count": 4,
   "metadata": {},
   "outputs": [
    {
     "data": {
      "application/vnd.jupyter.widget-view+json": {
       "model_id": "e272dfdb31ea4698b3ee0c00a08bd05d",
       "version_major": 2,
       "version_minor": 0
      },
      "text/plain": [
       "Metadata:   0%|          | 0/13 [00:00<?, ?files/s]"
      ]
     },
     "metadata": {},
     "output_type": "display_data"
    },
    {
     "data": {
      "application/vnd.jupyter.widget-view+json": {
       "model_id": "3abecb05078845d0b6c5991b509e43e7",
       "version_major": 2,
       "version_minor": 0
      },
      "text/plain": [
       "Poses for 5757 instances [pose, left_hand, right_hand]:   0%|          | 0/17271 [00:00<?, ?files/s]"
      ]
     },
     "metadata": {},
     "output_type": "display_data"
    }
   ],
   "source": [
    "from lsfb_dataset import Downloader\n",
    "\n",
    "downloader = Downloader(\n",
    "    dataset='isol',\n",
    "    destination=\"../Database/Dataset\",\n",
    "    splits=['fold_0', 'fold_2'],\n",
    "    signers=list(range(3)),\n",
    "    include_cleaned_poses=True,\n",
    "    include_raw_poses=False,\n",
    "    include_videos=False,\n",
    "    landmarks=['pose', 'left_hand', 'right_hand'],\n",
    "    skip_existing_files=True,\n",
    ")\n",
    "downloader.download()"
   ]
  },
  {
   "cell_type": "code",
   "execution_count": null,
   "metadata": {},
   "outputs": [],
   "source": [
    "from lsfb_dataset import LSFBIsolConfig, LSFBIsolLandmarks\n",
    "\n",
    "dataset = LSFBIsolLandmarks(LSFBIsolConfig(\n",
    "    root=\"./Database/Dataset\",\n",
    "    landmarks=('pose', 'left_hand', 'right_hand'),\n",
    "    split='train',\n",
    "    sequence_max_length=50,\n",
    "    use_3d=True,\n",
    "    n_labels=400,\n",
    "    target='sign_index',\n",
    "))\n",
    "features, target = dataset[0]"
   ]
  }
 ],
 "metadata": {
  "kernelspec": {
   "display_name": "Python 3",
   "language": "python",
   "name": "python3"
  },
  "language_info": {
   "codemirror_mode": {
    "name": "ipython",
    "version": 3
   },
   "file_extension": ".py",
   "mimetype": "text/x-python",
   "name": "python",
   "nbconvert_exporter": "python",
   "pygments_lexer": "ipython3",
   "version": "3.11.8"
  }
 },
 "nbformat": 4,
 "nbformat_minor": 2
}
