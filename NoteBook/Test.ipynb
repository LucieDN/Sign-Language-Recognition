{
 "cells": [
  {
   "cell_type": "code",
   "execution_count": null,
   "metadata": {},
   "outputs": [],
   "source": [
    "pip install lsfb-dataset"
   ]
  },
  {
   "cell_type": "code",
   "execution_count": 34,
   "metadata": {},
   "outputs": [
    {
     "data": {
      "application/vnd.jupyter.widget-view+json": {
       "model_id": "36fd581f01414666b9e6c36915aa554d",
       "version_major": 2,
       "version_minor": 0
      },
      "text/plain": [
       "Metadata:   0%|          | 0/13 [00:00<?, ?files/s]"
      ]
     },
     "metadata": {},
     "output_type": "display_data"
    },
    {
     "data": {
      "application/vnd.jupyter.widget-view+json": {
       "model_id": "94075666cb874e54a866e13650448b57",
       "version_major": 2,
       "version_minor": 0
      },
      "text/plain": [
       "Poses for 5757 instances [pose, left_hand, right_hand]:   0%|          | 0/17271 [00:00<?, ?files/s]"
      ]
     },
     "metadata": {},
     "output_type": "display_data"
    },
    {
     "data": {
      "application/vnd.jupyter.widget-view+json": {
       "model_id": "70cb3c8377ac437788f9653b28128aed",
       "version_major": 2,
       "version_minor": 0
      },
      "text/plain": [
       "Videos for 5757 instances:   0%|          | 0/5757 [00:00<?, ?files/s]"
      ]
     },
     "metadata": {},
     "output_type": "display_data"
    }
   ],
   "source": [
    "from lsfb_dataset import Downloader\n",
    "\n",
    "downloader = Downloader(\n",
    "    dataset='isol',\n",
    "    destination=\"../Database/Dataset\",\n",
    "    splits=['train','test'],\n",
    "    signers=list(range(3)),\n",
    "    include_cleaned_poses=True,\n",
    "    include_raw_poses=False,\n",
    "    include_videos=True,\n",
    "    landmarks=['pose', 'left_hand', 'right_hand'],\n",
    "    skip_existing_files=True,\n",
    ")\n",
    "downloader.download()"
   ]
  },
  {
   "cell_type": "code",
   "execution_count": 35,
   "metadata": {},
   "outputs": [],
   "source": [
    "import numpy as np\n",
    "import pandas as pd\n",
    "import os"
   ]
  },
  {
   "cell_type": "code",
   "execution_count": 43,
   "metadata": {},
   "outputs": [],
   "source": [
    "file = np.load(\"../Database\\Dataset\\poses\\left_hand\\CLSFBI0103A_S001_B_251203_251361.npy\")\n",
    "file2 = np.load(\"../Database\\Dataset\\poses/pose\\CLSFBI0103A_S001_B_251203_251361.npy\")"
   ]
  },
  {
   "cell_type": "code",
   "execution_count": null,
   "metadata": {},
   "outputs": [],
   "source": [
    "from lsfb_dataset import LSFBIsolConfig, LSFBIsolLandmarks\n",
    "\n",
    "dataset = LSFBIsolLandmarks(LSFBIsolConfig(\n",
    "    root=\"../Database/Dataset\",\n",
    "    landmarks=('pose', 'left_hand', 'right_hand'),\n",
    "    sequence_max_length=50,\n",
    "    use_3d=True,\n",
    "    n_labels=10,\n",
    "    target='sign_index',\n",
    "    show_progress=True\n",
    "))\n",
    "features, target = dataset[0]"
   ]
  },
  {
   "cell_type": "code",
   "execution_count": null,
   "metadata": {},
   "outputs": [],
   "source": [
    "df_instances = pd.read_csv('../Database/Dataset/instances.csv', engine='python')\n",
    "df_index = pd.read_csv('../Database/sign_to_index.csv')\n",
    "directory = \"../Database/Dataset/videos/\"\n",
    "signs = [df_index.loc[i, \"sign\"] for i in range(3)] # On se limite au 3 premiers mots de la liste\n",
    "points = [0,4,8,12,16,20]\n",
    "\n",
    "def videoSigning(word):\n",
    "    videos = []\n",
    "    for i in range(len(df_instances)):\n",
    "        path = directory + df_instances.loc[i,\"id\"] + \".mp4\"\n",
    "        if df_instances.loc[i, \"sign\"]==word and os.path.exists(path):\n",
    "            videos.append(path)\n",
    "    return videos\n",
    "\n",
    "liste = videoSigning(\"AVANCER\")\n",
    "print(len(liste))"
   ]
  }
 ],
 "metadata": {
  "kernelspec": {
   "display_name": "Python 3",
   "language": "python",
   "name": "python3"
  },
  "language_info": {
   "codemirror_mode": {
    "name": "ipython",
    "version": 3
   },
   "file_extension": ".py",
   "mimetype": "text/x-python",
   "name": "python",
   "nbconvert_exporter": "python",
   "pygments_lexer": "ipython3",
   "version": "3.11.8"
  }
 },
 "nbformat": 4,
 "nbformat_minor": 2
}
